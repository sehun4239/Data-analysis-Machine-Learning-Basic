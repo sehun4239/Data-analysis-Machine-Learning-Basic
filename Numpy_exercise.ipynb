{
 "cells": [
  {
   "cell_type": "code",
   "execution_count": 131,
   "metadata": {
    "scrolled": false
   },
   "outputs": [
    {
     "name": "stdout",
     "output_type": "stream",
     "text": [
      "#1. 서울의 최고 기온이 가장 높았던 날은 2018-08-01, 39.6.\n",
      "#2. 일교차가 가장 큰 날은 1942-04-19, 값은 21.8\n"
     ]
    },
    {
     "ename": "TypeError",
     "evalue": "'float' object cannot be interpreted as an integer",
     "output_type": "error",
     "traceback": [
      "\u001b[1;31m---------------------------------------------------------------------------\u001b[0m",
      "\u001b[1;31mTypeError\u001b[0m                                 Traceback (most recent call last)",
      "\u001b[1;32m<ipython-input-131-b422837df685>\u001b[0m in \u001b[0;36m<module>\u001b[1;34m\u001b[0m\n\u001b[0;32m     49\u001b[0m     \u001b[0marr_day2\u001b[0m \u001b[1;33m=\u001b[0m \u001b[0mnp\u001b[0m\u001b[1;33m.\u001b[0m\u001b[0mappend\u001b[0m\u001b[1;33m(\u001b[0m\u001b[0marr_day2\u001b[0m\u001b[1;33m,\u001b[0m \u001b[0mi\u001b[0m\u001b[1;33m[\u001b[0m\u001b[1;36m5\u001b[0m\u001b[1;33m:\u001b[0m\u001b[1;33m]\u001b[0m\u001b[1;33m)\u001b[0m\u001b[1;33m\u001b[0m\u001b[1;33m\u001b[0m\u001b[0m\n\u001b[0;32m     50\u001b[0m \u001b[0marr_day2\u001b[0m \u001b[1;33m=\u001b[0m \u001b[0marr_day2\u001b[0m\u001b[1;33m.\u001b[0m\u001b[0mreshape\u001b[0m\u001b[1;33m(\u001b[0m\u001b[1;33m-\u001b[0m\u001b[1;36m1\u001b[0m\u001b[1;33m,\u001b[0m\u001b[1;36m1\u001b[0m\u001b[1;33m)\u001b[0m\u001b[1;33m.\u001b[0m\u001b[0mcopy\u001b[0m\u001b[1;33m(\u001b[0m\u001b[1;33m)\u001b[0m\u001b[1;33m\u001b[0m\u001b[1;33m\u001b[0m\u001b[0m\n\u001b[1;32m---> 51\u001b[1;33m \u001b[0marr_dif\u001b[0m\u001b[1;33m=\u001b[0m \u001b[1;33m(\u001b[0m\u001b[1;33m(\u001b[0m\u001b[0marr\u001b[0m\u001b[1;33m[\u001b[0m\u001b[1;33m:\u001b[0m\u001b[1;33m,\u001b[0m\u001b[1;36m4\u001b[0m\u001b[1;33m]\u001b[0m\u001b[1;33m.\u001b[0m\u001b[0mastype\u001b[0m\u001b[1;33m(\u001b[0m\u001b[0mnp\u001b[0m\u001b[1;33m.\u001b[0m\u001b[0mfloat64\u001b[0m\u001b[1;33m)\u001b[0m \u001b[1;33m-\u001b[0m \u001b[0marr\u001b[0m\u001b[1;33m[\u001b[0m\u001b[1;33m:\u001b[0m\u001b[1;33m,\u001b[0m\u001b[1;36m3\u001b[0m\u001b[1;33m]\u001b[0m\u001b[1;33m.\u001b[0m\u001b[0mastype\u001b[0m\u001b[1;33m(\u001b[0m\u001b[0mnp\u001b[0m\u001b[1;33m.\u001b[0m\u001b[0mfloat64\u001b[0m\u001b[1;33m)\u001b[0m\u001b[1;33m)\u001b[0m\u001b[1;33m)\u001b[0m\u001b[1;33m.\u001b[0m\u001b[0mreshape\u001b[0m\u001b[1;33m(\u001b[0m\u001b[1;33m-\u001b[0m\u001b[1;36m1.1\u001b[0m\u001b[1;33m)\u001b[0m\u001b[1;33m\u001b[0m\u001b[1;33m\u001b[0m\u001b[0m\n\u001b[0m\u001b[0;32m     52\u001b[0m \u001b[0marr_set\u001b[0m \u001b[1;33m=\u001b[0m \u001b[0mnp\u001b[0m\u001b[1;33m.\u001b[0m\u001b[0mconcatenate\u001b[0m\u001b[1;33m(\u001b[0m\u001b[0marr_day2\u001b[0m\u001b[1;33m,\u001b[0m\u001b[0marr_dif\u001b[0m\u001b[1;33m,\u001b[0m\u001b[0maxis\u001b[0m\u001b[1;33m=\u001b[0m\u001b[1;36m1\u001b[0m\u001b[1;33m)\u001b[0m\u001b[1;33m\u001b[0m\u001b[1;33m\u001b[0m\u001b[0m\n\u001b[0;32m     53\u001b[0m \u001b[0mprint\u001b[0m\u001b[1;33m(\u001b[0m\u001b[0marr_set\u001b[0m\u001b[1;33m)\u001b[0m\u001b[1;33m\u001b[0m\u001b[1;33m\u001b[0m\u001b[0m\n",
      "\u001b[1;31mTypeError\u001b[0m: 'float' object cannot be interpreted as an integer"
     ]
    }
   ],
   "source": [
    "####1\n",
    "# 2018년 8월 1일이였고, 39.6도\n",
    "# 19420419 일교차: 21.8\n",
    "# 4월 29\n",
    "\n",
    "import numpy as np\n",
    "\n",
    "arr = np.loadtxt('./data/seoul.csv', dtype=np.object, delimiter=',', skiprows=1)\n",
    "\n",
    "empty_low = np.where((arr[:,3] == '') == True)\n",
    "arr = np.delete(arr, empty_low, axis=0)\n",
    "empty_high = np.where((arr[:,4] == '') == True)\n",
    "arr = np.delete(arr, empty_high, axis=0)\n",
    "\n",
    "#1) 기상 관측 이래, 서울의 최고 기온이 가장 높았던 날은 언제였고, 몇도인가요?\n",
    "# arr_1 = arr[:,4]\n",
    "# num = arr_1.size\n",
    "# print(num)\n",
    "# arr_2 = np.array([])\n",
    "# for i in range(num):\n",
    "#     if arr_1[i] != '':\n",
    "#         arr_1[i] = float(arr_1[i])\n",
    "#         arr_2 = np.append(arr_2, arr_1[i])\n",
    "# print(arr_2)\n",
    "# result = np.max(arr_2)\n",
    "# index = np.where(arr == result)\n",
    "# print('서울의 최고 기온이 가장 높았던 날은 {}, {}'.format(arr[index[0],0],result))\n",
    "\n",
    "# high_temp_arr = arr.T[4]\n",
    "# high_temp = (high_temp_arr[high_temp_arr != '']).astype(np.float64).max()\n",
    "# high_day = (arr.T[0][high_temp_arr == str(high_temp)])\n",
    "# print('서울의 최고 기온이 가장 높았던 날은 {}, {}.'.format(high_day,high_temp))\n",
    "\n",
    "arr_high = arr[:,4].astype(np.float64)\n",
    "highday = arr[arr_high.argmax(),0]\n",
    "\n",
    "print('#1. 서울의 최고 기온이 가장 높았던 날은 {}, {}.'.format(highday,arr_high.max()))\n",
    "#2) 역사적으로 일교차가 가장 큰 날짜는 몇년 몇월 몇일 인가요?\n",
    "\n",
    "# result = np.concatenate((arr,(arr[:,-1].astype(np.float64) - arr[:,-2].astype(np.float64)).reshape(-1,1)),axis=1)\n",
    "# max_high = result[:,-1].max()\n",
    "# print(result[:,0][result[:,-1] == max_high])\n",
    "\n",
    "dif = arr[:, 4].astype(np.float64)-arr[:, 3].astype(np.float64)\n",
    "day = arr[dif.argmax(),0]\n",
    "print('#2. 일교차가 가장 큰 날은 {}, 값은 {}'.format(day,dif.max()))\n",
    "\n",
    "#3) 1년 중 평균적으로 일교차가 가장 큰 날짜는 몇월 몇일 인가요?\n",
    "arr_day = arr[:,0].astype(np.string_)\n",
    "arr_day2 = np.array([])\n",
    "for i in arr_day:\n",
    "    arr_day2 = np.append(arr_day2, i[5:])\n",
    "arr_day2 = arr_day2.reshape(-1,1).copy()\n",
    "arr_dif= ((arr[:,4].astype(np.float64) - arr[:,3].astype(np.float64))).reshape(-1.1)\n",
    "arr_set = np.concatenate(arr_day2,arr_dif,axis=1)\n",
    "print(arr_set)\n",
    "\n",
    "\n",
    "#4) 가장 덥다고 알려진 대구보다 서울이 더 더운날이 가장 많은 연도는 언제인가요?\n",
    "\n"
   ]
  },
  {
   "cell_type": "code",
   "execution_count": null,
   "metadata": {},
   "outputs": [],
   "source": [
    "#1970년 1월 1일 0시 0분 1초 => 1\n",
    "\n",
    "\n",
    "#1. 사용자가 평가한 모든 영화의 전체 평균 평점\n",
    "\n",
    "#2. 각 사용자별 평균 평점\n",
    "\n",
    "#3. 각 영화별 평균 평점\n",
    "\n",
    "#4. 평균 평점이 가장 높은 영화의 제목\n"
   ]
  }
 ],
 "metadata": {
  "kernelspec": {
   "display_name": "Python [conda env:data_env] *",
   "language": "python",
   "name": "conda-env-data_env-py"
  },
  "language_info": {
   "codemirror_mode": {
    "name": "ipython",
    "version": 3
   },
   "file_extension": ".py",
   "mimetype": "text/x-python",
   "name": "python",
   "nbconvert_exporter": "python",
   "pygments_lexer": "ipython3",
   "version": "3.7.7"
  }
 },
 "nbformat": 4,
 "nbformat_minor": 4
}
