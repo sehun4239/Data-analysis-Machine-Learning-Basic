{
 "cells": [
  {
   "cell_type": "code",
   "execution_count": null,
   "metadata": {},
   "outputs": [],
   "source": [
    "## cell 이라고 불러요!\n",
    "# a key : 현재 cell 위쪽에 새로운 cell을 생성해요!\n",
    "# b key : 현재 cell 아래쪽에 새로운 cell 생성\n",
    "# dd key : 현재 cell을 삭제\n",
    "# ctrl + enter : 현재 cell을 실행\n",
    "\n",
    "# NumPy : Numerical Python (ndarray제공)\n",
    "# Numpy는 vector와 matrix 연산에 특화되어 있어요\n",
    "# Numpy : pandas와 Matplotlib의 기반이 되는 module\n",
    "#         machine learning, deep learning에서 많이 사용됨\n",
    "\n",
    "# Numpy는 ndarray라고 불리는 n-차원의 배열을 제공!\n",
    "\n",
    "# ndarray의 특징 : python의 list와 상당히 유사\n",
    "#                  python의 list는 다른 데이터 타입을 같이 list안에 저장이 가능!\n",
    "#                  Numpy의 ndarray는 모두 같은 데이터 타입을 사용해야 한다\n",
    "#                  Python의 list보다 메모리 효율이나 실행속도면에서 우위\n",
    "\n",
    "# numpy module을 설치하고 진행해야 한다.\n",
    "# pip install numpy\n",
    "# conda install numpy"
   ]
  },
  {
   "cell_type": "code",
   "execution_count": 10,
   "metadata": {},
   "outputs": [
    {
     "name": "stdout",
     "output_type": "stream",
     "text": [
      "[1, 2, 3, 4, 5]\n",
      "<class 'list'>\n",
      "[1 2 3 4 5]\n",
      "<class 'numpy.ndarray'>\n",
      "int32\n",
      "1\n",
      "<class 'numpy.int32'>\n",
      "['100' '3.14' 'True' 'Hello']\n"
     ]
    }
   ],
   "source": [
    "import numpy as np\n",
    "\n",
    "# python의 list부터 살펴보아요!\n",
    "a = [1, 2, 3, 4, 5] # python의 list\n",
    "print(a)            # [1, 2, 3, 4, 5] ==> list의 literal\n",
    "print(type(a))      # <class 'list'>\n",
    "\n",
    "# Numpy의 ndarray를 만들어보자\n",
    "arr = np.array([1,2,3,4,5])\n",
    "print(arr)           # [1 2 3 4 5] ==> ndarray의 literal\n",
    "print(type(arr))     # <class 'numpy.ndarray'>\n",
    "print(arr.dtype)     # int32 (int:정수, 32:32bit)\n",
    "print(arr[0])        # 1 \n",
    "print(type(arr[0]))  # <class 'numpy.int32'>\n",
    "\n",
    "arr = np.array([100, 3.14, True, 'Hello'])\n",
    "print(arr)"
   ]
  },
  {
   "cell_type": "code",
   "execution_count": 16,
   "metadata": {},
   "outputs": [
    {
     "name": "stdout",
     "output_type": "stream",
     "text": [
      "[[1 2 3]\n",
      " [4 5 6]]\n",
      "5\n"
     ]
    }
   ],
   "source": [
    "# 다차원 ndarray를 만들어 보아요\n",
    "# python의 list는 중첩리스트만 존재해요!\n",
    "\n",
    "a = [[1, 2, 3],\n",
    "     [4, 5, 6]]\n",
    "\n",
    "arr = np.array(a)\n",
    "print(arr)\n",
    "\n",
    "print(arr[1,1])"
   ]
  },
  {
   "cell_type": "code",
   "execution_count": 17,
   "metadata": {},
   "outputs": [
    {
     "name": "stdout",
     "output_type": "stream",
     "text": [
      "[[1. 2. 3.]\n",
      " [4. 5. 6.]]\n"
     ]
    }
   ],
   "source": [
    "a = [[1, 2, 3],\n",
    "     [4, 5, 6]]\n",
    "\n",
    "arr = np.array(a, dtype=np.float64)\n",
    "print(arr)\n",
    "\n"
   ]
  },
  {
   "cell_type": "code",
   "execution_count": 28,
   "metadata": {},
   "outputs": [
    {
     "name": "stdout",
     "output_type": "stream",
     "text": [
      "[1. 2. 3. 4.]\n",
      "1\n",
      "(4,)\n",
      "[[ 1.  2.  3.]\n",
      " [ 4.  5.  6.]\n",
      " [ 7.  8.  9.]\n",
      " [10. 11. 12.]]\n",
      "(4, 3)\n",
      "[[[1 2 3]\n",
      "  [3 4 5]]\n",
      "\n",
      " [[1 2 3]\n",
      "  [3 4 5]]]\n",
      "(2, 2, 3)\n"
     ]
    }
   ],
   "source": [
    "# ndarray의 차원 관련 속성을 알아보아요!!\n",
    "\n",
    "a = [1, 2, 3, 4]\n",
    "\n",
    "arr = np.array(a, dtype=np.float64)\n",
    "print(arr)\n",
    "\n",
    "print(arr.ndim)    # ndim => 차원의 개수 : 1\n",
    "print(arr.shape)   # 차원의 개수와 각 차원의 요소를 typle로 표현\n",
    "                   # (4,)\n",
    "a = [[1, 2, 3], \n",
    "     [4, 5, 6], \n",
    "     [7, 8, 9], \n",
    "     [10, 11, 12]]\n",
    "\n",
    "arr = np.array(a, dtype=np.float64)\n",
    "print(arr)\n",
    "print(arr.shape)   # (4, 3)\n",
    "\n",
    "## 3차원 중첩 리스트를 만들어보자\n",
    "## ndarray를 생성한 후 shape을 출력하면 (2, 2, 3) 나오도록 작성\n",
    "a= [[[1,2,3],[3,4,5]],[[1,2,3],[3,4,5]]]\n",
    "\n",
    "arr = np.array(a)\n",
    "print(arr)\n",
    "print(arr.shape)"
   ]
  },
  {
   "cell_type": "code",
   "execution_count": 34,
   "metadata": {},
   "outputs": [
    {
     "name": "stdout",
     "output_type": "stream",
     "text": [
      "[[ 1.  2.  3.]\n",
      " [ 4.  5.  6.]\n",
      " [ 7.  8.  9.]\n",
      " [10. 11. 12.]]\n",
      "12\n",
      "4\n",
      "(4, 3)\n",
      "[[ 1.  2.  3.  4.  5.  6.]\n",
      " [ 7.  8.  9. 10. 11. 12.]]\n",
      "[[[ 1.  2.]\n",
      "  [ 3.  4.]]\n",
      "\n",
      " [[ 5.  6.]\n",
      "  [ 7.  8.]]\n",
      "\n",
      " [[ 9. 10.]\n",
      "  [11. 12.]]]\n"
     ]
    },
    {
     "ename": "ValueError",
     "evalue": "cannot reshape array of size 12 into shape (3,2,3)",
     "output_type": "error",
     "traceback": [
      "\u001b[1;31m---------------------------------------------------------------------------\u001b[0m",
      "\u001b[1;31mValueError\u001b[0m                                Traceback (most recent call last)",
      "\u001b[1;32m<ipython-input-34-47bdb2e6e29a>\u001b[0m in \u001b[0;36m<module>\u001b[1;34m\u001b[0m\n\u001b[0;32m     15\u001b[0m \u001b[0mprint\u001b[0m\u001b[1;33m(\u001b[0m\u001b[0marr\u001b[0m\u001b[1;33m)\u001b[0m\u001b[1;33m\u001b[0m\u001b[1;33m\u001b[0m\u001b[0m\n\u001b[0;32m     16\u001b[0m \u001b[1;33m\u001b[0m\u001b[0m\n\u001b[1;32m---> 17\u001b[1;33m \u001b[0marr\u001b[0m\u001b[1;33m.\u001b[0m\u001b[0mshape\u001b[0m \u001b[1;33m=\u001b[0m \u001b[1;33m(\u001b[0m\u001b[1;36m3\u001b[0m\u001b[1;33m,\u001b[0m\u001b[1;36m2\u001b[0m\u001b[1;33m,\u001b[0m\u001b[1;36m3\u001b[0m\u001b[1;33m)\u001b[0m\u001b[1;33m\u001b[0m\u001b[1;33m\u001b[0m\u001b[0m\n\u001b[0m\u001b[0;32m     18\u001b[0m \u001b[0mprint\u001b[0m\u001b[1;33m(\u001b[0m\u001b[0marr\u001b[0m\u001b[1;33m)\u001b[0m\u001b[1;33m\u001b[0m\u001b[1;33m\u001b[0m\u001b[0m\n",
      "\u001b[1;31mValueError\u001b[0m: cannot reshape array of size 12 into shape (3,2,3)"
     ]
    }
   ],
   "source": [
    "# numpy array(ndarray)의 크기를 알아보아요!\n",
    "\n",
    "a = [[1,2,3],[4,5,6],[7,8,9],[10,11,12]]\n",
    "\n",
    "arr = np.array(a, dtype=np.float64)  # 4 X 3\n",
    "print(arr)\n",
    "print(arr.size) # 12\n",
    "print(len(arr)) # 첫번째 차원의 요소 개수를 리턴 => 4\n",
    "\n",
    "print(arr.shape) # (4,3)\n",
    "arr.shape = (2,6)     # shape 변경 가능\n",
    "print(arr)\n",
    "\n",
    "arr.shape = (3,2,2)\n",
    "print(arr)\n",
    "\n",
    "# arr.shape = (3,2,3)  => valueError\n",
    "\n",
    "# numpy array는 shape을 내가 원하는 식으로 변경할 수 있어요\n",
    "# 하지만... shape 속성을 이용해서 변경하는 방식은 잘 사용하지 않는다.\n",
    "# shape을 변경하기 위해서는... reshape() 함수를 이용한다."
   ]
  },
  {
   "cell_type": "code",
   "execution_count": 37,
   "metadata": {},
   "outputs": [
    {
     "name": "stdout",
     "output_type": "stream",
     "text": [
      "[1.5 2.3 8.3 9.8 7.7]\n",
      "[1 2 8 9 7]\n",
      "int32\n"
     ]
    }
   ],
   "source": [
    "# ndarray를 생성할 때 dtype을 지정해서 만든다.\n",
    "# ndarray의 데이터 타입을 변경하려면 ??\n",
    "import numpy as np\n",
    "\n",
    "arr = np.array([1.5, 2.3, 8.3, 9.8, 7.7], dtype = np.float64)\n",
    "print(arr)\n",
    "\n",
    "result = arr.astype(np.int32)\n",
    "print(result)\n",
    "print(result.dtype)"
   ]
  },
  {
   "cell_type": "code",
   "execution_count": 46,
   "metadata": {
    "scrolled": true
   },
   "outputs": [
    {
     "name": "stdout",
     "output_type": "stream",
     "text": [
      "[[0. 0. 0. 0.]\n",
      " [0. 0. 0. 0.]\n",
      " [0. 0. 0. 0.]]\n",
      "[[1. 1. 1. 1. 1.]\n",
      " [1. 1. 1. 1. 1.]]\n",
      "[[7. 7. 7. 7. 7.]\n",
      " [7. 7. 7. 7. 7.]\n",
      " [7. 7. 7. 7. 7.]]\n",
      "[[8.992e-322 0.000e+000 0.000e+000]\n",
      " [0.000e+000 0.000e+000 3.854e-321]\n",
      " [0.000e+000 0.000e+000 0.000e+000]]\n",
      "[[[1 2 3]\n",
      "  [4 5 6]]]\n",
      "[[[0. 0. 0.]\n",
      "  [0. 0. 0.]]]\n",
      "[[[1. 1. 1.]\n",
      "  [1. 1. 1.]]]\n"
     ]
    }
   ],
   "source": [
    "## ndarray를 생성할 때 python의 list를 이용해서 만들었다.\n",
    "# ndarray를 만드는 여러가지 방법이 존재\n",
    "\n",
    "import numpy as np\n",
    "\n",
    "arr = np.zeros((3,4)) # 0으로 채운 numppy array를 만들어요 !! \n",
    "                      # shape을 명시해야한다. dtype은 np.float64가 default\n",
    "print(arr)\n",
    "\n",
    "arr = np.ones((2,5))   # 1로 채운 numpy array를 만들어요\n",
    "print(arr)\n",
    "\n",
    "arr = np.full((3,5), 7, dtype=np.float64)\n",
    "print(arr)\n",
    "\n",
    "arr = np.empty((3,3)) # 3 x 3 ndarray를 생성하는데.. 초기값을 주지 않는다.\n",
    "                      # 내가 원하는 shape의 공간만 설정. 초기화 하지 않는다.\n",
    "print(arr)\n",
    "\n",
    "####################################\n",
    "\n",
    "arr = np.array([[(1,2,3),(4,5,6)]])\n",
    "print(arr)\n",
    "\n",
    "# ones, zeros, full, empty 이런 함수들과 상당히 유사한 함수들 \n",
    "result = np.zeros_like(arr, dtype=np.float64) # arr과 shape이 같은 zeros array를 만든다\n",
    "print(result)\n",
    "\n",
    "result = np.ones_like(arr, dtype=np.float64)\n",
    "print(result)"
   ]
  },
  {
   "cell_type": "code",
   "execution_count": 48,
   "metadata": {},
   "outputs": [
    {
     "name": "stdout",
     "output_type": "stream",
     "text": [
      "[1 2 3 4 5 6 7 8 9]\n"
     ]
    }
   ],
   "source": [
    "# ndarray를 만드는 다른 방법 - arange\n",
    "\n",
    "# python의 range와 상당히 유사\n",
    "# 주어진 범위 내에서 지정한 간격으로 연속적인 원소를 가진 ndarray를 생성\n",
    "\n",
    "arr = np.arange(1, 10, 1)\n",
    "print(arr)"
   ]
  },
  {
   "cell_type": "code",
   "execution_count": 53,
   "metadata": {
    "scrolled": true
   },
   "outputs": [
    {
     "name": "stdout",
     "output_type": "stream",
     "text": [
      "[ 0.  1.  2.  3.  4.  5.  6.  7.  8.  9. 10.]\n",
      "[  1.   5.   9.  13.  17.  21.  25.  29.  33.  37.  41.  45.  49.  53.\n",
      "  57.  61.  65.  69.  73.  77.  81.  85.  89.  93.  97. 101. 105. 109.\n",
      " 113. 117. 121.]\n"
     ]
    },
    {
     "data": {
      "image/png": "[encoded data removed]",
      "text/plain": [
       "<Figure size 432x288 with 1 Axes>"
      ]
     },
     "metadata": {
      "needs_background": "light"
     },
     "output_type": "display_data"
    }
   ],
   "source": [
    "# ndarray를 만드는 다른 방법 - linspace\n",
    "# linspace 기능을 확인하기 위해서 그래프로 데이터를 그려볼거에요 !\n",
    "# matplotlib module (더 확장된 seaborn도 있다)\n",
    "\n",
    "import numpy as np\n",
    "import matplotlib.pyplot as plt\n",
    "\n",
    "# np.linspace(start, stop, num) : start는 시작 값, stop은 끝 값, num은 개수\n",
    "# start부터 시작해서 stop까지 범위에서 num개의 숫자를 균일한 간격으로 데이터를\n",
    "# 생성하는 ndarray를 만드는 함수다.\n",
    "\n",
    "arr = np.linspace(0, 10, 11)\n",
    "print(arr)\n",
    "\n",
    "arr = np.linspace(1, 121, 31)\n",
    "# (stop-start)/(num-1) 간격 => 120/30=4 => [1 5 9 ....]\n",
    "print(arr)\n",
    "\n",
    "plt.plot(arr, '*')\n",
    "plt.show()"
   ]
  },
  {
   "cell_type": "code",
   "execution_count": 62,
   "metadata": {},
   "outputs": [
    {
     "name": "stdout",
     "output_type": "stream",
     "text": [
      "[0.86558245 0.69625264 0.41259573 ... 0.22000938 0.68202157 0.72880544]\n"
     ]
    },
    {
     "data": {
      "image/png": "[encoded data removed]",
      "text/plain": [
       "<Figure size 432x288 with 1 Axes>"
      ]
     },
     "metadata": {
      "needs_background": "light"
     },
     "output_type": "display_data"
    }
   ],
   "source": [
    "# ndarray를 생성할 때 랜덤값 기반으로 생성할 수 있어요 !!\n",
    "# 총 5가지 방법으로 ndarray를 생성할 수 있어요\n",
    "\n",
    "# 1. np.random.normal() : 정규분포 확률밀도함수에서 실수 표본을 추출해서 ndarray 생성\n",
    "#                         평균, 표준편차\n",
    "# mean = 50\n",
    "# std = 2\n",
    "# arr = np.random.normal(mean,std, (100000,))\n",
    "# print(arr)\n",
    "# plt.hist(arr,bins=100)\n",
    "# plt.show()\n",
    "\n",
    "# # 2. np.random.rand(d0,d1,d2,...) : 실수를 추출하는데 [0,1) 범위에서 추출하고 균등분포로 추출\n",
    "# arr = np.random.rand(100000)\n",
    "# print(arr)\n",
    "# plt.hist(arr,bins=100)\n",
    "# plt.show()\n",
    "\n",
    "# 3. np.random.randn(d0,d1,d2,...) : 실수추출, 표준정규분포에서 난수를 추출 (평균이0, 표준편차1)\n",
    "# arr = np.random.randn(100000)\n",
    "# print(arr)\n",
    "# plt.hist(arr, bins=100)\n",
    "# plt.show()\n",
    "\n",
    "# 4. np.random.randint(low,high,shape) : 균등분포 확률밀도 함수에서 난수를 추출하는데\n",
    "#                                        정수값을 추출\n",
    "# arr = np.random.randint(-100,100,(100000,))\n",
    "# print(arr)\n",
    "# plt.hist(arr, bins=100)\n",
    "# plt.show()\n",
    "\n",
    "# 5. np.random.random(shape) : [0.1) 균등분포에서 실수 난수를 추출\n",
    "arr = np.random.random((100000,))\n",
    "print(arr)\n",
    "plt.hist(arr, bins=100)\n",
    "plt.show()"
   ]
  },
  {
   "cell_type": "code",
   "execution_count": 79,
   "metadata": {},
   "outputs": [
    {
     "name": "stdout",
     "output_type": "stream",
     "text": [
      "[2 3 2 0 2 0 3 0 2 4]\n"
     ]
    }
   ],
   "source": [
    "# numpy가 제공하는 랜덤 관련 함수\n",
    "\n",
    "# 1. 난수의 재현\n",
    "#    랜덤값도 실제로는 특정 알고리즘의 결과물...초기에 시작값을 설정해주면\n",
    "#    항상 같은 랜덤값이 도출된다.\n",
    "\n",
    "# np.random.seed(10)\n",
    "# arr = np.random.randint(0,100,(10,))\n",
    "# print(arr)\n",
    "\n",
    "# 2. ndarray의 순서를 랜덤하게 바꿀려면 어떻게 해야 하나요??\n",
    "# arr = np.arange(10)\n",
    "# print(arr)\n",
    "# np.random.shuffle(arr) # ndarray자체가 변형돼요\n",
    "# print(arr)\n",
    "\n",
    "# 3. ndarray안에서 일부를 무작위로 선택하는 기능. sampling기능을 수행하려면\n",
    "#    choice() 함수를 이용하면 돼요\n",
    "#  np.random.choice(arr, size, replace, p)\n",
    "\n",
    "# arr : numpy array가 나오거나 혹은 정수가 나올 수 있어요 만약 정수면\n",
    "#       arange(정수)\n",
    "# size : 정수값, 샘플의 숫자\n",
    "# replace: Boolean(True,False)\n",
    "#          True : 한번 선택한 데이터를 다시 샘플링 할 수 있다\n",
    "# p : ndarray. 각 데이터가 샘플링될 확률을 가지고 있는 ndarray\n",
    "\n",
    "# arr = np.random.choice(5, 3, replace=True)\n",
    "# print(arr)\n",
    "\n",
    "arr = np.random.choice(5, 10, replace=True, p=[0.2,0,0.3,0.4,0.1])\n",
    "print(arr)"
   ]
  },
  {
   "cell_type": "code",
   "execution_count": 81,
   "metadata": {},
   "outputs": [
    {
     "name": "stdout",
     "output_type": "stream",
     "text": [
      "[[[ 0  1  2]\n",
      "  [ 3  4  5]]\n",
      "\n",
      " [[ 6  7  8]\n",
      "  [ 9 10 11]]]\n"
     ]
    }
   ],
   "source": [
    "# ndarray는 shape을 가지고 있어요!\n",
    "# shape 속성의 값을 바꾸어서 ndarray의 형태를 변경하는것은 좋지 않다\n",
    "# reshape() 함수를 이용해서 처리한다.\n",
    "import numpy as np\n",
    "\n",
    "arr = np.arange(0,12,1)\n",
    "\n",
    "arr1 = arr.reshape(4,3)\n",
    "\n",
    "# arr[0] = 100\n",
    "# print(arr)\n",
    "# print(arr1)\n",
    "\n",
    "arr = np.arange(0,12,1)\n",
    "arr1 = arr.reshape(2,6).copy()   # view가 아니라 진짜 shape을 바꾼 ndarray를 만들려면\n"
   ]
  },
  {
   "cell_type": "code",
   "execution_count": 85,
   "metadata": {
    "scrolled": true
   },
   "outputs": [
    {
     "name": "stdout",
     "output_type": "stream",
     "text": [
      "[[ 0  1  2  3  4  5  6  7  8  9 10 11 12 13 14 15 16 17 18 19]\n",
      " [20 21 22 23 24 25 26 27 28 29 30 31 32 33 34 35 36 37 38 39]\n",
      " [40 41 42 43 44 45 46 47 48 49 50 51 52 53 54 55 56 57 58 59]\n",
      " [60 61 62 63 64 65 66 67 68 69 70 71 72 73 74 75 76 77 78 79]\n",
      " [80 81 82 83 84 85 86 87 88 89 90 91 92 93 94 95 96 97 98 99]]\n",
      "[ 0  1  2  3  4  5  6  7  8  9 10 11 12 13 14 15 16 17 18 19 20 21 22 23\n",
      " 24 25 26 27 28 29 30 31 32 33 34 35 36 37 38 39 40 41 42 43 44 45 46 47\n",
      " 48 49 50 51 52 53 54 55 56 57 58 59 60 61 62 63 64 65 66 67 68 69 70 71\n",
      " 72 73 74 75 76 77 78 79 80 81 82 83 84 85 86 87 88 89 90 91 92 93 94 95\n",
      " 96 97 98 99]\n"
     ]
    }
   ],
   "source": [
    "# ndarray의 shape 조절 함수\n",
    "# reshape()을 이용해서 shape을 조절할 수 있어요!!\n",
    "\n",
    "# ravel() : ndarray의 모든 요소가 포함된 1차원 vector를 리턴 !!\n",
    "#           View를 리턴함 -> .copy() 해줘야 만들 수 있음\n",
    "\n",
    "arr = np.arange(0,100,1).reshape(5,-1).copy()\n",
    "print(arr)\n",
    "\n",
    "arr1 = arr.ravel()\n",
    "print(arr1)"
   ]
  }
 ],
 "metadata": {
  "kernelspec": {
   "display_name": "Python [conda env:data_env] *",
   "language": "python",
   "name": "conda-env-data_env-py"
  },
  "language_info": {
   "codemirror_mode": {
    "name": "ipython",
    "version": 3
   },
   "file_extension": ".py",
   "mimetype": "text/x-python",
   "name": "python",
   "nbconvert_exporter": "python",
   "pygments_lexer": "ipython3",
   "version": "3.7.7"
  }
 },
 "nbformat": 4,
 "nbformat_minor": 4
}
