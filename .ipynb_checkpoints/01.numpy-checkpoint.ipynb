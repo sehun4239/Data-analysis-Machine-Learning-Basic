{
 "cells": [
  {
   "cell_type": "code",
   "execution_count": null,
   "metadata": {},
   "outputs": [],
   "source": [
    "## cell 이라고 불러요!\n",
    "# a key : 현재 cell 위쪽에 새로운 cell을 생성해요!\n",
    "# b key : 현재 cell 아래쪽에 새로운 cell 생성\n",
    "# dd key : 현재 cell을 삭제\n",
    "# ctrl + enter : 현재 cell을 실행\n",
    "\n",
    "# NumPy : Numerical Python (ndarray제공)\n",
    "# Numpy는 vector와 matrix 연산에 특화되어 있어요\n",
    "# Numpy : pandas와 Matplotlib의 기반이 되는 module\n",
    "#         machine learning, deep learning에서 많이 사용됨\n",
    "\n",
    "# Numpy는 ndarray라고 불리는 n-차원의 배열을 제공!\n",
    "\n",
    "# ndarray의 특징 : python의 list와 상당히 유사\n",
    "#                  python의 list는 다른 데이터 타입을 같이 list안에 저장이 가능!\n",
    "#                  Numpy의 ndarray는 모두 같은 데이터 타입을 사용해야 한다\n",
    "#                  Python의 list보다 메모리 효율이나 실행속도면에서 우위\n",
    "\n",
    "# numpy module을 설치하고 진행해야 한다.\n",
    "# pip install numpy\n",
    "# conda install numpy"
   ]
  },
  {
   "cell_type": "code",
   "execution_count": 10,
   "metadata": {},
   "outputs": [
    {
     "name": "stdout",
     "output_type": "stream",
     "text": [
      "[1, 2, 3, 4, 5]\n",
      "<class 'list'>\n",
      "[1 2 3 4 5]\n",
      "<class 'numpy.ndarray'>\n",
      "int32\n",
      "1\n",
      "<class 'numpy.int32'>\n",
      "['100' '3.14' 'True' 'Hello']\n"
     ]
    }
   ],
   "source": [
    "import numpy as np\n",
    "\n",
    "# python의 list부터 살펴보아요!\n",
    "a = [1, 2, 3, 4, 5] # python의 list\n",
    "print(a)            # [1, 2, 3, 4, 5] ==> list의 literal\n",
    "print(type(a))      # <class 'list'>\n",
    "\n",
    "# Numpy의 ndarray를 만들어보자\n",
    "arr = np.array([1,2,3,4,5])\n",
    "print(arr)           # [1 2 3 4 5] ==> ndarray의 literal\n",
    "print(type(arr))     # <class 'numpy.ndarray'>\n",
    "print(arr.dtype)     # int32 (int:정수, 32:32bit)\n",
    "print(arr[0])        # 1 \n",
    "print(type(arr[0]))  # <class 'numpy.int32'>\n",
    "\n",
    "arr = np.array([100, 3.14, True, 'Hello'])\n",
    "print(arr)"
   ]
  },
  {
   "cell_type": "code",
   "execution_count": 16,
   "metadata": {},
   "outputs": [
    {
     "name": "stdout",
     "output_type": "stream",
     "text": [
      "[[1 2 3]\n",
      " [4 5 6]]\n",
      "5\n"
     ]
    }
   ],
   "source": [
    "# 다차원 ndarray를 만들어 보아요\n",
    "# python의 list는 중첩리스트만 존재해요!\n",
    "\n",
    "a = [[1, 2, 3],\n",
    "     [4, 5, 6]]\n",
    "\n",
    "arr = np.array(a)\n",
    "print(arr)\n",
    "\n",
    "print(arr[1,1])"
   ]
  },
  {
   "cell_type": "code",
   "execution_count": 17,
   "metadata": {},
   "outputs": [
    {
     "name": "stdout",
     "output_type": "stream",
     "text": [
      "[[1. 2. 3.]\n",
      " [4. 5. 6.]]\n"
     ]
    }
   ],
   "source": [
    "a = [[1, 2, 3],\n",
    "     [4, 5, 6]]\n",
    "\n",
    "arr = np.array(a, dtype=np.float64)\n",
    "print(arr)\n",
    "\n"
   ]
  },
  {
   "cell_type": "code",
   "execution_count": 28,
   "metadata": {},
   "outputs": [
    {
     "name": "stdout",
     "output_type": "stream",
     "text": [
      "[1. 2. 3. 4.]\n",
      "1\n",
      "(4,)\n",
      "[[ 1.  2.  3.]\n",
      " [ 4.  5.  6.]\n",
      " [ 7.  8.  9.]\n",
      " [10. 11. 12.]]\n",
      "(4, 3)\n",
      "[[[1 2 3]\n",
      "  [3 4 5]]\n",
      "\n",
      " [[1 2 3]\n",
      "  [3 4 5]]]\n",
      "(2, 2, 3)\n"
     ]
    }
   ],
   "source": [
    "# ndarray의 차원 관련 속성을 알아보아요!!\n",
    "\n",
    "a = [1, 2, 3, 4]\n",
    "\n",
    "arr = np.array(a, dtype=np.float64)\n",
    "print(arr)\n",
    "\n",
    "print(arr.ndim)    # ndim => 차원의 개수 : 1\n",
    "print(arr.shape)   # 차원의 개수와 각 차원의 요소를 typle로 표현\n",
    "                   # (4,)\n",
    "a = [[1, 2, 3], \n",
    "     [4, 5, 6], \n",
    "     [7, 8, 9], \n",
    "     [10, 11, 12]]\n",
    "\n",
    "arr = np.array(a, dtype=np.float64)\n",
    "print(arr)\n",
    "print(arr.shape)   # (4, 3)\n",
    "\n",
    "## 3차원 중첩 리스트를 만들어보자\n",
    "## ndarray를 생성한 후 shape을 출력하면 (2, 2, 3) 나오도록 작성\n",
    "a= [[[1,2,3],[3,4,5]],[[1,2,3],[3,4,5]]]\n",
    "\n",
    "arr = np.array(a)\n",
    "print(arr)\n",
    "print(arr.shape)"
   ]
  },
  {
   "cell_type": "code",
   "execution_count": 34,
   "metadata": {},
   "outputs": [
    {
     "name": "stdout",
     "output_type": "stream",
     "text": [
      "[[ 1.  2.  3.]\n",
      " [ 4.  5.  6.]\n",
      " [ 7.  8.  9.]\n",
      " [10. 11. 12.]]\n",
      "12\n",
      "4\n",
      "(4, 3)\n",
      "[[ 1.  2.  3.  4.  5.  6.]\n",
      " [ 7.  8.  9. 10. 11. 12.]]\n",
      "[[[ 1.  2.]\n",
      "  [ 3.  4.]]\n",
      "\n",
      " [[ 5.  6.]\n",
      "  [ 7.  8.]]\n",
      "\n",
      " [[ 9. 10.]\n",
      "  [11. 12.]]]\n"
     ]
    },
    {
     "ename": "ValueError",
     "evalue": "cannot reshape array of size 12 into shape (3,2,3)",
     "output_type": "error",
     "traceback": [
      "\u001b[1;31m---------------------------------------------------------------------------\u001b[0m",
      "\u001b[1;31mValueError\u001b[0m                                Traceback (most recent call last)",
      "\u001b[1;32m<ipython-input-34-47bdb2e6e29a>\u001b[0m in \u001b[0;36m<module>\u001b[1;34m\u001b[0m\n\u001b[0;32m     15\u001b[0m \u001b[0mprint\u001b[0m\u001b[1;33m(\u001b[0m\u001b[0marr\u001b[0m\u001b[1;33m)\u001b[0m\u001b[1;33m\u001b[0m\u001b[1;33m\u001b[0m\u001b[0m\n\u001b[0;32m     16\u001b[0m \u001b[1;33m\u001b[0m\u001b[0m\n\u001b[1;32m---> 17\u001b[1;33m \u001b[0marr\u001b[0m\u001b[1;33m.\u001b[0m\u001b[0mshape\u001b[0m \u001b[1;33m=\u001b[0m \u001b[1;33m(\u001b[0m\u001b[1;36m3\u001b[0m\u001b[1;33m,\u001b[0m\u001b[1;36m2\u001b[0m\u001b[1;33m,\u001b[0m\u001b[1;36m3\u001b[0m\u001b[1;33m)\u001b[0m\u001b[1;33m\u001b[0m\u001b[1;33m\u001b[0m\u001b[0m\n\u001b[0m\u001b[0;32m     18\u001b[0m \u001b[0mprint\u001b[0m\u001b[1;33m(\u001b[0m\u001b[0marr\u001b[0m\u001b[1;33m)\u001b[0m\u001b[1;33m\u001b[0m\u001b[1;33m\u001b[0m\u001b[0m\n",
      "\u001b[1;31mValueError\u001b[0m: cannot reshape array of size 12 into shape (3,2,3)"
     ]
    }
   ],
   "source": [
    "# numpy array(ndarray)의 크기를 알아보아요!\n",
    "\n",
    "a = [[1,2,3],[4,5,6],[7,8,9],[10,11,12]]\n",
    "\n",
    "arr = np.array(a, dtype=np.float64)  # 4 X 3\n",
    "print(arr)\n",
    "print(arr.size) # 12\n",
    "print(len(arr)) # 첫번째 차원의 요소 개수를 리턴 => 4\n",
    "\n",
    "print(arr.shape) # (4,3)\n",
    "arr.shape = (2,6)     # shape 변경 가능\n",
    "print(arr)\n",
    "\n",
    "arr.shape = (3,2,2)\n",
    "print(arr)\n",
    "\n",
    "# arr.shape = (3,2,3)  => valueError\n",
    "\n",
    "# numpy array는 shape을 내가 원하는 식으로 변경할 수 있어요\n",
    "# 하지만... shape 속성을 이용해서 변경하는 방식은 잘 사용하지 않는다.\n",
    "# shape을 변경하기 위해서는... reshape() 함수를 이용한다."
   ]
  },
  {
   "cell_type": "code",
   "execution_count": 37,
   "metadata": {},
   "outputs": [
    {
     "name": "stdout",
     "output_type": "stream",
     "text": [
      "[1.5 2.3 8.3 9.8 7.7]\n",
      "[1 2 8 9 7]\n",
      "int32\n"
     ]
    }
   ],
   "source": [
    "# ndarray를 생성할 때 dtype을 지정해서 만든다.\n",
    "# ndarray의 데이터 타입을 변경하려면 ??\n",
    "import numpy as np\n",
    "\n",
    "arr = np.array([1.5, 2.3, 8.3, 9.8, 7.7], dtype = np.float64)\n",
    "print(arr)\n",
    "\n",
    "result = arr.astype(np.int32)\n",
    "print(result)\n",
    "print(result.dtype)"
   ]
  },
  {
   "cell_type": "code",
   "execution_count": 90,
   "metadata": {
    "scrolled": true
   },
   "outputs": [
    {
     "name": "stdout",
     "output_type": "stream",
     "text": [
      "[[0. 0. 0. 0.]\n",
      " [0. 0. 0. 0.]\n",
      " [0. 0. 0. 0.]]\n",
      "[[1. 1. 1. 1. 1.]\n",
      " [1. 1. 1. 1. 1.]]\n",
      "[[7. 7. 7. 7. 7.]\n",
      " [7. 7. 7. 7. 7.]\n",
      " [7. 7. 7. 7. 7.]]\n",
      "[[-1. -0. -0.]\n",
      " [ 0.  1.  0.]\n",
      " [ 0.  0.  1.]]\n",
      "[[[1 2 3]\n",
      "  [4 5 6]]]\n",
      "(1, 2, 3)\n",
      "[[[0. 0. 0.]\n",
      "  [0. 0. 0.]]]\n",
      "[[[1. 1. 1.]\n",
      "  [1. 1. 1.]]]\n"
     ]
    }
   ],
   "source": [
    "## ndarray를 생성할 때 python의 list를 이용해서 만들었다.\n",
    "# ndarray를 만드는 여러가지 방법이 존재\n",
    "\n",
    "import numpy as np\n",
    "\n",
    "arr = np.zeros((3,4)) # 0으로 채운 numppy array를 만들어요 !! \n",
    "                      # shape을 명시해야한다. dtype은 np.float64가 default\n",
    "print(arr)\n",
    "\n",
    "arr = np.ones((2,5))   # 1로 채운 numpy array를 만들어요\n",
    "print(arr)\n",
    "\n",
    "arr = np.full((3,5), 7, dtype=np.float64)\n",
    "print(arr)\n",
    "\n",
    "arr = np.empty((3,3)) # 3 x 3 ndarray를 생성하는데.. 초기값을 주지 않는다.\n",
    "                      # 내가 원하는 shape의 공간만 설정. 초기화 하지 않는다.\n",
    "print(arr)\n",
    "\n",
    "####################################\n",
    "\n",
    "arr = np.array([[(1,2,3),(4,5,6)]])\n",
    "print(arr)\n",
    "print(arr.shape)\n",
    "\n",
    "# ones, zeros, full, empty 이런 함수들과 상당히 유사한 함수들 \n",
    "result = np.zeros_like(arr, dtype=np.float64) # arr과 shape이 같은 zeros array를 만든다\n",
    "print(result)\n",
    "\n",
    "result = np.ones_like(arr, dtype=np.float64)\n",
    "print(result)"
   ]
  },
  {
   "cell_type": "code",
   "execution_count": 48,
   "metadata": {},
   "outputs": [
    {
     "name": "stdout",
     "output_type": "stream",
     "text": [
      "[1 2 3 4 5 6 7 8 9]\n"
     ]
    }
   ],
   "source": [
    "# ndarray를 만드는 다른 방법 - arange\n",
    "\n",
    "# python의 range와 상당히 유사\n",
    "# 주어진 범위 내에서 지정한 간격으로 연속적인 원소를 가진 ndarray를 생성\n",
    "\n",
    "arr = np.arange(1, 10, 1)\n",
    "print(arr)"
   ]
  },
  {
   "cell_type": "code",
   "execution_count": 53,
   "metadata": {
    "scrolled": true
   },
   "outputs": [
    {
     "name": "stdout",
     "output_type": "stream",
     "text": [
      "[ 0.  1.  2.  3.  4.  5.  6.  7.  8.  9. 10.]\n",
      "[  1.   5.   9.  13.  17.  21.  25.  29.  33.  37.  41.  45.  49.  53.\n",
      "  57.  61.  65.  69.  73.  77.  81.  85.  89.  93.  97. 101. 105. 109.\n",
      " 113. 117. 121.]\n"
     ]
    },
    {
     "data": {
      "image/png": "[encoded data removed]",
      "text/plain": [
       "<Figure size 432x288 with 1 Axes>"
      ]
     },
     "metadata": {
      "needs_background": "light"
     },
     "output_type": "display_data"
    }
   ],
   "source": [
    "# ndarray를 만드는 다른 방법 - linspace\n",
    "# linspace 기능을 확인하기 위해서 그래프로 데이터를 그려볼거에요 !\n",
    "# matplotlib module (더 확장된 seaborn도 있다)\n",
    "\n",
    "import numpy as np\n",
    "import matplotlib.pyplot as plt\n",
    "\n",
    "# np.linspace(start, stop, num) : start는 시작 값, stop은 끝 값, num은 개수\n",
    "# start부터 시작해서 stop까지 범위에서 num개의 숫자를 균일한 간격으로 데이터를\n",
    "# 생성하는 ndarray를 만드는 함수다.\n",
    "\n",
    "arr = np.linspace(0, 10, 11)\n",
    "print(arr)\n",
    "\n",
    "arr = np.linspace(1, 121, 31)\n",
    "# (stop-start)/(num-1) 간격 => 120/30=4 => [1 5 9 ....]\n",
    "print(arr)\n",
    "\n",
    "plt.plot(arr, '*')\n",
    "plt.show()"
   ]
  },
  {
   "cell_type": "code",
   "execution_count": 62,
   "metadata": {},
   "outputs": [
    {
     "name": "stdout",
     "output_type": "stream",
     "text": [
      "[0.86558245 0.69625264 0.41259573 ... 0.22000938 0.68202157 0.72880544]\n"
     ]
    },
    {
     "data": {
      "image/png": "[encoded data removed]",
      "text/plain": [
       "<Figure size 432x288 with 1 Axes>"
      ]
     },
     "metadata": {
      "needs_background": "light"
     },
     "output_type": "display_data"
    }
   ],
   "source": [
    "# ndarray를 생성할 때 랜덤값 기반으로 생성할 수 있어요 !!\n",
    "# 총 5가지 방법으로 ndarray를 생성할 수 있어요\n",
    "\n",
    "# 1. np.random.normal() : 정규분포 확률밀도함수에서 실수 표본을 추출해서 ndarray 생성\n",
    "#                         평균, 표준편차\n",
    "# mean = 50\n",
    "# std = 2\n",
    "# arr = np.random.normal(mean,std, (100000,))\n",
    "# print(arr)\n",
    "# plt.hist(arr,bins=100)\n",
    "# plt.show()\n",
    "\n",
    "# # 2. np.random.rand(d0,d1,d2,...) : 실수를 추출하는데 [0,1) 범위에서 추출하고 균등분포로 추출\n",
    "# arr = np.random.rand(100000)\n",
    "# print(arr)\n",
    "# plt.hist(arr,bins=100)\n",
    "# plt.show()\n",
    "\n",
    "# 3. np.random.randn(d0,d1,d2,...) : 실수추출, 표준정규분포에서 난수를 추출 (평균이0, 표준편차1)\n",
    "# arr = np.random.randn(100000)\n",
    "# print(arr)\n",
    "# plt.hist(arr, bins=100)\n",
    "# plt.show()\n",
    "\n",
    "# 4. np.random.randint(low,high,shape) : 균등분포 확률밀도 함수에서 난수를 추출하는데\n",
    "#                                        정수값을 추출\n",
    "# arr = np.random.randint(-100,100,(100000,))\n",
    "# print(arr)\n",
    "# plt.hist(arr, bins=100)\n",
    "# plt.show()\n",
    "\n",
    "# 5. np.random.random(shape) : [0.1) 균등분포에서 실수 난수를 추출\n",
    "arr = np.random.random((100000,))\n",
    "print(arr)\n",
    "plt.hist(arr, bins=100)\n",
    "plt.show()"
   ]
  },
  {
   "cell_type": "code",
   "execution_count": 79,
   "metadata": {},
   "outputs": [
    {
     "name": "stdout",
     "output_type": "stream",
     "text": [
      "[2 3 2 0 2 0 3 0 2 4]\n"
     ]
    }
   ],
   "source": [
    "# numpy가 제공하는 랜덤 관련 함수\n",
    "\n",
    "# 1. 난수의 재현\n",
    "#    랜덤값도 실제로는 특정 알고리즘의 결과물...초기에 시작값을 설정해주면\n",
    "#    항상 같은 랜덤값이 도출된다.\n",
    "\n",
    "# np.random.seed(10)\n",
    "# arr = np.random.randint(0,100,(10,))\n",
    "# print(arr)\n",
    "\n",
    "# 2. ndarray의 순서를 랜덤하게 바꿀려면 어떻게 해야 하나요??\n",
    "# arr = np.arange(10)\n",
    "# print(arr)\n",
    "# np.random.shuffle(arr) # ndarray자체가 변형돼요\n",
    "# print(arr)\n",
    "\n",
    "# 3. ndarray안에서 일부를 무작위로 선택하는 기능. sampling기능을 수행하려면\n",
    "#    choice() 함수를 이용하면 돼요\n",
    "#  np.random.choice(arr, size, replace, p)\n",
    "\n",
    "# arr : numpy array가 나오거나 혹은 정수가 나올 수 있어요 만약 정수면\n",
    "#       arange(정수)\n",
    "# size : 정수값, 샘플의 숫자\n",
    "# replace: Boolean(True,False)\n",
    "#          True : 한번 선택한 데이터를 다시 샘플링 할 수 있다\n",
    "# p : ndarray. 각 데이터가 샘플링될 확률을 가지고 있는 ndarray\n",
    "\n",
    "# arr = np.random.choice(5, 3, replace=True)\n",
    "# print(arr)\n",
    "\n",
    "arr = np.random.choice(5, 10, replace=True, p=[0.2,0,0.3,0.4,0.1])\n",
    "print(arr)"
   ]
  },
  {
   "cell_type": "code",
   "execution_count": 81,
   "metadata": {},
   "outputs": [
    {
     "name": "stdout",
     "output_type": "stream",
     "text": [
      "[[[ 0  1  2]\n",
      "  [ 3  4  5]]\n",
      "\n",
      " [[ 6  7  8]\n",
      "  [ 9 10 11]]]\n"
     ]
    }
   ],
   "source": [
    "# ndarray는 shape을 가지고 있어요!\n",
    "# shape 속성의 값을 바꾸어서 ndarray의 형태를 변경하는것은 좋지 않다\n",
    "# reshape() 함수를 이용해서 처리한다.\n",
    "import numpy as np\n",
    "\n",
    "arr = np.arange(0,12,1)\n",
    "\n",
    "arr1 = arr.reshape(4,3)\n",
    "\n",
    "# arr[0] = 100\n",
    "# print(arr)\n",
    "# print(arr1)\n",
    "\n",
    "arr = np.arange(0,12,1)\n",
    "arr1 = arr.reshape(2,6).copy()   # view가 아니라 진짜 shape을 바꾼 ndarray를 만들려면\n"
   ]
  },
  {
   "cell_type": "code",
   "execution_count": 85,
   "metadata": {
    "scrolled": true
   },
   "outputs": [
    {
     "name": "stdout",
     "output_type": "stream",
     "text": [
      "[[ 0  1  2  3  4  5  6  7  8  9 10 11 12 13 14 15 16 17 18 19]\n",
      " [20 21 22 23 24 25 26 27 28 29 30 31 32 33 34 35 36 37 38 39]\n",
      " [40 41 42 43 44 45 46 47 48 49 50 51 52 53 54 55 56 57 58 59]\n",
      " [60 61 62 63 64 65 66 67 68 69 70 71 72 73 74 75 76 77 78 79]\n",
      " [80 81 82 83 84 85 86 87 88 89 90 91 92 93 94 95 96 97 98 99]]\n",
      "[ 0  1  2  3  4  5  6  7  8  9 10 11 12 13 14 15 16 17 18 19 20 21 22 23\n",
      " 24 25 26 27 28 29 30 31 32 33 34 35 36 37 38 39 40 41 42 43 44 45 46 47\n",
      " 48 49 50 51 52 53 54 55 56 57 58 59 60 61 62 63 64 65 66 67 68 69 70 71\n",
      " 72 73 74 75 76 77 78 79 80 81 82 83 84 85 86 87 88 89 90 91 92 93 94 95\n",
      " 96 97 98 99]\n"
     ]
    }
   ],
   "source": [
    "# ndarray의 shape 조절 함수\n",
    "# reshape()을 이용해서 shape을 조절할 수 있어요!!\n",
    "\n",
    "# ravel() : ndarray의 모든 요소가 포함된 1차원 vector를 리턴 !!\n",
    "#           View를 리턴함 -> .copy() 해줘야 만들 수 있음\n",
    "\n",
    "arr = np.arange(0,100,1).reshape(5,-1).copy()\n",
    "print(arr)\n",
    "\n",
    "arr1 = arr.ravel()\n",
    "print(arr1)"
   ]
  },
  {
   "cell_type": "code",
   "execution_count": 3,
   "metadata": {
    "scrolled": true
   },
   "outputs": [
    {
     "name": "stdout",
     "output_type": "stream",
     "text": [
      "[[9 4 0 1]\n",
      " [9 0 1 8]\n",
      " [9 0 8 6]]\n",
      "[[9 4 0 1 9]\n",
      " [0 1 8 9 0]\n",
      " [8 6 0 0 0]]\n",
      "[[9 4]\n",
      " [0 1]]\n"
     ]
    }
   ],
   "source": [
    "# 9월 7일\n",
    "# ndarray의 shape 조절 함수에 대해서 알아보아요\n",
    "# reshape(): 원하는 형태(shape)으로 ndarray의 shape을 조절\n",
    "# ravel() : 1차원 vector(1차원 ndarray)로 shape을 변형\n",
    "\n",
    "# resize()는 reshape()과 상당히 유사\n",
    "\n",
    "import numpy as np\n",
    "\n",
    "# 정수형태의 난수를 이용해서 (3,4) shape을 가지는 ndarray를 생성할 거다.\n",
    "np.random.seed(10)\n",
    "\n",
    "arr = np.random.randint(0,10,(3,4))\n",
    "print(arr)\n",
    "\n",
    "result = arr.resize(2,6)\n",
    "# print(result)          # View가 생성되지 않음. 원본이 원하는 shape으로 바뀝니다.\n",
    "# print(arr)\n",
    "\n",
    "arr.resize(3,5)         # reshape()은 요소의 개수가 맞지 않으면 안됨\n",
    "               # resize()는 요소의 개수가 맞지 않아도 shape이 변경된다. (0으로 채움)\n",
    "print(arr)\n",
    "\n",
    "arr.resize(2,2)        # 요소수가 줄어들면 기존 데이터를 버리고 늘어나면 0으로 세팅\n",
    "print(arr)"
   ]
  },
  {
   "cell_type": "code",
   "execution_count": 19,
   "metadata": {
    "scrolled": true
   },
   "outputs": [
    {
     "name": "stdout",
     "output_type": "stream",
     "text": [
      "[[ 1  2  3  4]\n",
      " [ 5  6  7  8]\n",
      " [ 9 10 11 12]\n",
      " [13 14 15 16]]\n",
      "[ 9 10 11 12]\n",
      "[[ 5  6  7  8]\n",
      " [ 9 10 11 12]]\n",
      "[[ 5  6]\n",
      " [ 9 10]]\n"
     ]
    }
   ],
   "source": [
    "## 여기까지가 NumPy array(ndarray)의 기본적인 특징\n",
    "\n",
    "## indexing & slicing\n",
    "\n",
    "import numpy as np\n",
    "\n",
    "# arr = np.arange(10,20,1)\n",
    "# print(arr)\n",
    "\n",
    "# ndarray의 각 요소를 출력하려면 어떻게 해야 하나요 ??\n",
    "# for tmp in arr:\n",
    "#     print(tmp)\n",
    "\n",
    "# for (idx,tmp) in enumerate(arr):\n",
    "#     print('인덱스: {}, 데이터:{}'.format(idx,tmp))\n",
    "\n",
    "# print(arr[3])       # 13\n",
    "# print(arr[1:4])     # [11 12 13]\n",
    "# print(arr[:-1])     # [10 11 12 13 ... 18]\n",
    "# print(arr[1:-1:2])  # [11 13 15 17]\n",
    "\n",
    "arr = np.arange(1,17,1).reshape(4,4).copy()\n",
    "print(arr)\n",
    "\n",
    "# print(arr[1,2])      # 7\n",
    "# print(arr[1][2])     # 7\n",
    "\n",
    "print(arr[2,:])\n",
    "print(arr[1:3,:])      # [[ 5  6  7  8]\n",
    "                       #  [ 9 10 11 12]]\n",
    "print(arr[1:3,:2])"
   ]
  },
  {
   "cell_type": "code",
   "execution_count": 39,
   "metadata": {
    "scrolled": true
   },
   "outputs": [
    {
     "name": "stdout",
     "output_type": "stream",
     "text": [
      "[[ 0  1  2  3]\n",
      " [ 4  5  6  7]\n",
      " [ 8  9 10 11]]\n",
      "10\n",
      "[6]\n",
      "[[5]]\n",
      "[ 2 10]\n",
      "[[ 2]\n",
      " [10]]\n",
      "[[ 1  3]\n",
      " [ 9 11]]\n",
      "[[ 1  3]\n",
      " [ 9 11]]\n"
     ]
    }
   ],
   "source": [
    "## Boolean indexing과 Fancy indexing !!\n",
    "\n",
    "# Boolean indexing\n",
    "# boolean indexing은 ndarray의 각 요소의 선택여부\n",
    "# True, False로 구성된 boolean mask를 이용하여 지정하는 방식\n",
    "# boolean mask의 True에 해당하는 index 만을 조회하는 방식\n",
    "\n",
    "import numpy as np\n",
    "\n",
    "np.random.seed(1)\n",
    "arr = np.random.randint(0,10,(5,))\n",
    "# print(arr)\n",
    "# print(arr % 2)\n",
    "# print(arr % 2 == 0)        # [False  True False False  True] => boolean mask\n",
    "# print(arr[arr % 2 == 0])   # [8 0] => boolean indexing\n",
    "\n",
    "# Fancy indexing\n",
    "# ndarray에 index배열을 전달하여 배열 요소를 참조하는 방식\n",
    "\n",
    "arr = np.arange(0,12,1).reshape(3,4).copy()\n",
    "print(arr)\n",
    "\n",
    "print(arr[2,2])    # indexing : 10\n",
    "print(arr[1:2,2])  # slicing : [6]\n",
    "print(arr[1:2,1:2])  # slicing : [[5]]\n",
    "\n",
    "print(arr[[0,2],2])       # index 배열 => [0,2,3,...]   답: [2 10]\n",
    "\n",
    "print(arr[[0,2],2:3])    # [[ 2]\n",
    "                         # [10]]\n",
    "\n",
    "# 그러면 다음의 2차원 ndarray를 추출해보자\n",
    "# print(arr[[0,2],[1,3]])  # [ 1 11]? 행과 열에 동시에 fancy indexing이 적용되지 않음\n",
    "\n",
    "# 해결방법 1\n",
    "print(arr[[0,2]][:,[1,3]])\n",
    "\n",
    "# 해결방법 2 - Numpy가 함수를 하나 제공해준다.\n",
    "print(arr[np.ix_([0,2],[1,3])])\n"
   ]
  },
  {
   "cell_type": "code",
   "execution_count": 46,
   "metadata": {
    "scrolled": true
   },
   "outputs": [
    {
     "name": "stdout",
     "output_type": "stream",
     "text": [
      "[[1 2 3]\n",
      " [4 5 6]]\n",
      "[[ 7  8  9]\n",
      " [10 11 12]]\n",
      "[[ 8 10 12]\n",
      " [14 16 18]]\n",
      "[[2 4 6]\n",
      " [5 7 9]]\n",
      "[[ 58  64]\n",
      " [139 154]]\n"
     ]
    }
   ],
   "source": [
    "# ndarray의 사칙연산과 행렬곱\n",
    "# + - * /\n",
    "# 행렬곱!! => dot product\n",
    "\n",
    "import numpy as np\n",
    "\n",
    "arr1 = np.array([[1,2,3],[4,5,6]])   # 2 X 3 ndarray\n",
    "arr2 = np.array([[7,8,9],[10,11,12]]) # 2 X 3 ndarray\n",
    "print(arr1)\n",
    "print(arr2)\n",
    "\n",
    "# python의 list에서 + 연산자는 concatenation\n",
    "# ndarray에서 + 연산자는 vector, matrix연산..\n",
    "# ndarray의 사칙연산의 기본 전제는 .. shape이 같아야 연산이 성립.\n",
    "print(arr1 + arr2)   # 이런 연산방식이 ndarray의 기본 방식...\n",
    "arr2 = 3\n",
    "arr2 = np.array([1,2,3])\n",
    "#arr2 = np.array([1,2]) => error\n",
    "\n",
    "print(arr1 + arr2)   # shape이 안 맞는 경우, ndarray가 boradcasting을 수행\n",
    "\n",
    "## 행렬곱 연산\n",
    "## 두 행렬간의 행렬곱은 np.dot(), np.matnul()로 수행이 가능하다\n",
    "## np.dot(A,B)에서 A행렬의 열 vector와 B행렬의 행 Vector의 size가 같아야한다.\n",
    "## 만약에 크기가 다르면 ?? reshape이나 resize나 이런것들을 이용해서 크기를 맞춰야함\n",
    "\n",
    "arr1 = np.array([[1,2,3],[4,5,6]])   # 2 X 3 ndarray\n",
    "arr2 = np.array([[7,8],[9,10],[11,12]]) # 3 X 2 ndarray\n",
    "\n",
    "print(np.dot(arr1,arr2))\n",
    "\n",
    "## 행렬곱 연산을 이용하면 행렬곱 조건만 만족시키면 다양한 크기의 행렬을 연속적으로\n",
    "## 이용해서 특정 작업을 수행할 수 있다. (머신러닝, 이미지처리쪽에서 사용)\n",
    "\n"
   ]
  },
  {
   "cell_type": "code",
   "execution_count": 51,
   "metadata": {
    "scrolled": true
   },
   "outputs": [
    {
     "name": "stdout",
     "output_type": "stream",
     "text": [
      "[[1 2 3]\n",
      " [4 5 6]]\n",
      "[[1 4]\n",
      " [2 5]\n",
      " [3 6]]\n",
      "[[100   2   3]\n",
      " [  4   5   6]]\n",
      "[[100   4]\n",
      " [  2   5]\n",
      " [  3   6]]\n"
     ]
    }
   ],
   "source": [
    "## Transpose: 전치행렬에 대해서 알아보자\n",
    "## 전치행렬은 원본행렬의 행은 열로, 열은 행으로 바꾼 행렬을 의미한다.\n",
    "## 전치행렬의 표현은 윗첨자로 T를 이용한다.\n",
    "\n",
    "import numpy as np\n",
    "\n",
    "arr = np.array([[1,2,3],[4,5,6]])   # 2 X 3 ndarray\n",
    "\n",
    "print(arr)\n",
    "\n",
    "t_array = arr.T\n",
    "print(t_array)    # 3 X 2 ndarray\n",
    "\n",
    "arr[0,0] = 100\n",
    "print(arr)\n",
    "print(t_array)    #.T도 view가 만들어진다.\n",
    "\n",
    "arr = np.array([1,2,3,4]) # vector (1차원 ndarray)\n",
    "t_array = arr.T        # 결과 동일함, vector는 transpose가 의미 없음\n",
    "\n"
   ]
  },
  {
   "cell_type": "code",
   "execution_count": 58,
   "metadata": {},
   "outputs": [
    {
     "name": "stdout",
     "output_type": "stream",
     "text": [
      "1 2 3 4 5 1 2 3 4 5 6 "
     ]
    }
   ],
   "source": [
    "## NumPy iterator\n",
    "\n",
    "# Iterator의 동작방식, 이거 왜 쓰는지를 알아야 한다.\n",
    "\n",
    "import numpy as np\n",
    "\n",
    "# 1차원 ndarray를 만들어서 각 요소를 출력해 볼꺼에요\n",
    "# arr = np.array([1, 2, 3, 4, 5])\n",
    "\n",
    "# for tmp in arr:\n",
    "#     print(tmp, end=' ')\n",
    "    \n",
    "# 일단은 불편하지만 이 작업을 iterator를 이용해서 구현해보자\n",
    "arr = np.array([1, 2, 3, 4, 5])\n",
    "\n",
    "it = np.nditer(arr, flags=['c_index'])\n",
    "\n",
    "while not it.finished:         # iterator가 지정하는 위치가 끝이 아닐동안 반복해라\n",
    "    idx = it.index              # iterator가 현재 가리키는 곳의 index숫자를 가져옴\n",
    "    print(arr[idx], end=' ')\n",
    "    \n",
    "    it.iternext()               # iterator를 다음 요소로 이동시키는 작업을 한다.\n",
    "    \n",
    "###############################\n",
    "# 2차원 ndarray에 대해서 각 요소를 순서대로 출력해보아요\n",
    "# 순서대로 라는 것은 => 0행0열,  0행1열, 0행2열, 1행 0열, 1행 1열 ......\n",
    "\n",
    "# arr = np.array([[1,2,3],[4,5,6]])\n",
    "\n",
    "# for row in range(arr.shape[0]):\n",
    "#     for col in range(arr.shape[1]):\n",
    "#         print(arr[row,col], end=' ')\n",
    "# 하지만 차원이 높아질 수록 for문돌리는게 오래걸린다.\n",
    "\n",
    "################################\n",
    "\n",
    "arr = np.array([[1,2,3],[4,5,6]])\n",
    "\n",
    "it = np.nditer(arr, flags=['multi_index'])\n",
    "\n",
    "while not it.finished:         # iterator가 지정하는 위치가 끝이 아닐동안 반복해라\n",
    "    idx = it.multi_index        # iterator가 현재 가리키는 곳의 index숫자를 가져옴\n",
    "    print(arr[idx], end=' ')\n",
    "    \n",
    "    it.iternext()               # iterator를 다음 요소로 이동시키는 작업을 한다."
   ]
  },
  {
   "cell_type": "code",
   "execution_count": null,
   "metadata": {},
   "outputs": [],
   "source": [
    "# numpy에 대한 python 코드에 대한 내용을 세부적으로 알아보고 있다.\n",
    "# machine learning, deep learning 이론 설명을 하고 => python으로 numpy를 이용해 구현\n",
    "\n",
    "# 지양하는 학습방법 => API만 이용해서 machine learning, deep learning 하는 방법!"
   ]
  },
  {
   "cell_type": "code",
   "execution_count": 61,
   "metadata": {
    "scrolled": true
   },
   "outputs": [
    {
     "name": "stdout",
     "output_type": "stream",
     "text": [
      "[[5 0 3]\n",
      " [3 7 9]]\n",
      "[[3 5 2]\n",
      " [4 7 6]]\n",
      "[[False False False]\n",
      " [False  True False]]\n",
      "[0 1 2 3 4 5 6 7 8 9]\n",
      "[0 1 2 3 4 5 6 7 8 9]\n",
      "True\n"
     ]
    }
   ],
   "source": [
    "## ndarray의 비교 연산\n",
    "\n",
    "# 사칙연산과 마찬가지로 비교연산도 같은 index끼리 수행됩니다.\n",
    "\n",
    "np.random.seed(0)\n",
    "\n",
    "arr1 = np.random.randint(0,10,(2,3))\n",
    "arr2 = np.random.randint(0,10,(2,3))\n",
    "print(arr1)\n",
    "print(arr2)\n",
    "\n",
    "print(arr1 == arr2)        # boolean mask\n",
    "\n",
    "# 만약 2개의 ndarray가 같은 데이터를 가지고 있는지 비교할때는 어떻게 해야하나요?\n",
    "\n",
    "arr1 = np.arange(10)\n",
    "arr2 = np.arange(10)\n",
    "\n",
    "print(arr1)\n",
    "print(arr2)\n",
    "print(np.array_equal(arr1,arr2))   # True"
   ]
  },
  {
   "cell_type": "code",
   "execution_count": 80,
   "metadata": {
    "scrolled": true
   },
   "outputs": [
    {
     "name": "stdout",
     "output_type": "stream",
     "text": [
      "15\n",
      "[5 7 9]\n",
      "[ 6 15]\n",
      "[2 2]\n",
      "[[[5 8 9]\n",
      "  [5 0 0]]\n",
      "\n",
      " [[1 7 6]\n",
      "  [9 2 4]]]\n",
      "[[ 6 15 15]\n",
      " [14  2  4]]\n",
      "[[10  8  9]\n",
      " [10  9 10]]\n",
      "[[22  5]\n",
      " [14 15]]\n"
     ]
    }
   ],
   "source": [
    "# Numpy 집계함수  & axis(축)\n",
    "\n",
    "import numpy as np\n",
    "\n",
    "# arr = np.arange(1,7,1).reshape(2,3).copy()\n",
    "# print(arr)\n",
    "\n",
    "# result=0\n",
    "# for row in range(arr.shape[0]):\n",
    "#     for col in range(arr.shape[1]):\n",
    "#         result += arr[row,col]\n",
    "# print(result)\n",
    "\n",
    "# print(np.sum(arr))      # print(arr.sum())이랑 동일 : 합\n",
    "# print(np.cumsum(arr))   # 누적합 => [1 3 6 10 15 21]\n",
    "# print(np.mean(arr))     # 평균 => 3.5\n",
    "# print(np.max(arr))      # 최대값 => 6\n",
    "# print(np.min(arr))      # 최소값 => 1\n",
    "# print(np.argmax(arr))   # 최대값을 찾아서 최대값의 순번(index)을 리턴 => 5\n",
    "# print(np.argmin(arr))   # 최소값의 index => 0  \n",
    "# print(np.std(arr))        # 표준편차 1.707\n",
    "# print(np.exp(arr))        # 자연상수.. 2.718281828.. e의 x승을 표시\n",
    "# print(np.log10(arr))\n",
    "\n",
    "## 이런 numpy의 수많은 집계함수와 수학함수가 우리에게 제공된다.\n",
    "## Numpy의 모든 집계함수는 axis를 기준으로 계산된다.\n",
    "## np.sum()\n",
    "## 만약 axis를 지정하지 않으면 ... axis는 None으로 설정되고...\n",
    "## 함수의 대상범위를 전체 ndarray로 지정하게 된다.\n",
    "\n",
    "# arr = np.arange(1,7,1).reshape(2,3).copy()\n",
    "# print(arr)\n",
    "# print(arr.sum())\n",
    "\n",
    "## axis를 어떻게 설정하고 어떤 효과가 나타나나요 ??\n",
    "\n",
    "# 1차원 ndarray를 생성.\n",
    "arr = np.array([1,2,3,4,5])\n",
    "print(arr.sum())    # axis를 지정하지 않았기 때문에 전체 ndarray를 대상으로 sum()수행\n",
    "#1차원은 축이 1개, n차원은 축이 n개\n",
    "# 이 축(axis)는 숫자로 표현해요 !\n",
    "# 1차원인 경우 axis=0 열방향, 가로방향\n",
    "# print(arr.sum(axis=0))      # 15\n",
    "# print(arr.sum(axis=1))      # error!\n",
    "\n",
    "# 2차원의 array를 가지고 다시 얘기를 해 보아요!!\n",
    "arr = np.array([[1,2,3],[4,5,6]])\n",
    "print(arr.sum(axis=0))      # 2차원에서 axis=0은 행방향!! 세로방향으로 합\n",
    "print(arr.sum(axis=1))      # 2차원에서 axis=1은 열방향!! 가로방향으로 합\n",
    "\n",
    "print(arr.argmax(axis=1))  # [2 2]\n",
    "\n",
    "np.random.seed(1)\n",
    "\n",
    "arr1 = np.random.randint(0,10,(2,2,3))\n",
    "print(arr1)\n",
    "print(arr1.sum(axis=0))      # 3차원에서 axis=0 => depth방향 면방향\n",
    "print(arr1.sum(axis=1))      # 3차원에서 axis=1은 행방향!! 세로방향으로 합\n",
    "print(arr1.sum(axis=2))      # 3차원에서 axis=2은 열방향!! 가로방향으로 합"
   ]
  },
  {
   "cell_type": "code",
   "execution_count": null,
   "metadata": {},
   "outputs": [],
   "source": [
    "## Numpy 집계함수를 사용해야하는 이유\n",
    "## 집계 함수를 사용하는 시간과 로직으로 연산하는 시간 비교\n",
    "\n",
    "import numpy as np\n",
    "\n",
    "arr = np.arange(100000, dtype=np.float64)\n",
    "print(arr)\n",
    "\n",
    "# for문을 이용해서 합을 구하거나 집계함수를 이용해서 구할 수 있다.\n"
   ]
  },
  {
   "cell_type": "code",
   "execution_count": 111,
   "metadata": {},
   "outputs": [
    {
     "name": "stdout",
     "output_type": "stream",
     "text": [
      "4999950000.0\n",
      "Wall time: 40 ms\n"
     ]
    }
   ],
   "source": [
    "%%time\n",
    "\n",
    "# 1. for문\n",
    "arr = np.arange(100000, dtype=np.float64)\n",
    "result = 0\n",
    "for tmp in arr:\n",
    "    result += tmp\n",
    "print(result)            # 4999950000.0  Wall time: 40 ms"
   ]
  },
  {
   "cell_type": "code",
   "execution_count": 114,
   "metadata": {
    "scrolled": true
   },
   "outputs": [
    {
     "name": "stdout",
     "output_type": "stream",
     "text": [
      "4999950000.0\n",
      "Wall time: 0 ns\n"
     ]
    }
   ],
   "source": [
    "%%time\n",
    "\n",
    "# 2. 집계함수\n",
    "arr = np.arange(100000, dtype=np.float64)\n",
    "print(arr.sum())        # 4999950000.0 Wall time: 0 ns"
   ]
  },
  {
   "cell_type": "code",
   "execution_count": 119,
   "metadata": {
    "scrolled": true
   },
   "outputs": [
    {
     "name": "stdout",
     "output_type": "stream",
     "text": [
      "[[ 1  2  3  4]\n",
      " [ 5  6  7  8]\n",
      " [ 9 10 11 12]\n",
      " [13 14 15 16]]\n",
      "6\n"
     ]
    }
   ],
   "source": [
    "## 연습문제\n",
    "\n",
    "import numpy as np\n",
    "\n",
    "arr = np.arange(1,17).reshape(4,4).copy()\n",
    "print(arr)\n",
    "\n",
    "# 해결해야 하는 문제는\n",
    "# ndarray안에 10보다 큰 수가 몇개 있는지 알아보려면 어떻게 해야하나요??\n",
    "\n",
    "# for문과 if문으로 이용한 로직처리도 가능\n",
    "\n",
    "# boolean mask를 이용해 보자\n",
    "print((arr > 10).sum())"
   ]
  },
  {
   "cell_type": "code",
   "execution_count": 141,
   "metadata": {},
   "outputs": [
    {
     "name": "stdout",
     "output_type": "stream",
     "text": [
      "[[ 2 13 10 11]\n",
      " [ 7  1 12  4]\n",
      " [ 8  3  6 14]\n",
      " [ 5  9 15 16]]\n",
      "[[ 2  1  6  4]\n",
      " [ 5  3 10 11]\n",
      " [ 7  9 12 14]\n",
      " [ 8 13 15 16]]\n",
      "[[ 2 10 11 13]\n",
      " [ 1  4  7 12]\n",
      " [ 3  6  8 14]\n",
      " [ 5  9 15 16]]\n",
      "1.846924533235839\n",
      "1.8160936404407135\n",
      "1.7950638813106348\n",
      "1.7601867493868808\n",
      "1.699290453819594\n",
      "1.5819312913856007\n",
      "1.5494195625257852\n",
      "1.5312109820146882\n",
      "1.5177198308032025\n",
      "1.4880735376897287\n"
     ]
    }
   ],
   "source": [
    "## ndarray를 정렬!!\n",
    "\n",
    "# NumPy array는 axis를 기준으로 정렬하는 sort() 함수를 제공!!\n",
    "# 만약 axis를 지정하지 않으면 -1값으로 지정 => 마지막 axis\n",
    "# np.sort() : 정렬된 결과 array를 리턴\n",
    "# arr.sort() : 원본을 정렬, return값은 None\n",
    "\n",
    "import numpy as np\n",
    "\n",
    "# arr = np.arange(10)\n",
    "# np.random.shuffle(arr)\n",
    "# print(arr)\n",
    "\n",
    "# print(np.sort(arr))     # 오름차순으로 정렬되요 !! (default가 오름차순)\n",
    "# # ndarray는 특수한 indexing을 제공 => 역순으로 정렬하기 위한 indexing을 제공\n",
    "# print(np.sort(arr)[::-1])\n",
    "\n",
    "## 2차원 ndarray의 정렬을 알아보자\n",
    "arr = np.arange(1,17)\n",
    "np.random.shuffle(arr)\n",
    "arr = arr.reshape(4,4).copy()\n",
    "\n",
    "print(arr)\n",
    "\n",
    "print(np.sort(arr, axis=0))    # 2차원에서 axis=0이면 행방향!!! 세로방향!!\n",
    "print(np.sort(arr, axis=1))\n",
    "\n",
    "# 표준 정규분포에서 200개의 샘플을 추출한 후\n",
    "# 내림차순으로 상위 5%까지의 결과만 출력하세요\n",
    "\n",
    "arr = np.random.randn(200)\n",
    "arr = np.sort(arr)[::-1]\n",
    "for i in range(int(arr.size*0.05)):\n",
    "    print(arr[i])"
   ]
  }
 ],
 "metadata": {
  "kernelspec": {
   "display_name": "Python [conda env:data_env] *",
   "language": "python",
   "name": "conda-env-data_env-py"
  },
  "language_info": {
   "codemirror_mode": {
    "name": "ipython",
    "version": 3
   },
   "file_extension": ".py",
   "mimetype": "text/x-python",
   "name": "python",
   "nbconvert_exporter": "python",
   "pygments_lexer": "ipython3",
   "version": "3.7.7"
  }
 },
 "nbformat": 4,
 "nbformat_minor": 4
}
