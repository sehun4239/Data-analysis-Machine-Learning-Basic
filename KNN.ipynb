{
 "cells": [
  {
   "cell_type": "code",
   "execution_count": 1,
   "metadata": {},
   "outputs": [
    {
     "name": "stdout",
     "output_type": "stream",
     "text": [
      "2.1.0\n"
     ]
    }
   ],
   "source": [
    "import tensorflow as tf\n",
    "\n",
    "print(tf.__version__)"
   ]
  },
  {
   "cell_type": "code",
   "execution_count": 5,
   "metadata": {},
   "outputs": [
    {
     "name": "stdout",
     "output_type": "stream",
     "text": [
      "[[0.55630135 0.18739828]\n",
      " [0.52411839 0.80281788]]\n",
      "tf.Tensor([1.9922442], shape=(1,), dtype=float32)\n",
      "[1.9922442]\n"
     ]
    }
   ],
   "source": [
    "import numpy as np\n",
    "import tensorflow as tf\n",
    "\n",
    "# 랜덤값을 하나 얻어온다\n",
    "random1 = np.random.rand(2,2)\n",
    "print(random1)\n",
    "\n",
    "# Tensorflow\n",
    "random2 = tf.random.normal([1], dtype=tf.float32)\n",
    "print(random2)  # Tensor가 출력\n",
    "# TF 1.x버전에서는 node를 실행시키려면 session이 있어야했다.\n",
    "# 하지만 2.x버전부터는 session 없이 즉시 실행 가능하다. (Eager Execution)\n",
    "\n",
    "print(random2.numpy())"
   ]
  },
  {
   "cell_type": "code",
   "execution_count": 6,
   "metadata": {},
   "outputs": [
    {
     "name": "stdout",
     "output_type": "stream",
     "text": [
      "c의 값은 : 30.0\n",
      "60.0\n"
     ]
    }
   ],
   "source": [
    "import tensorflow as tf\n",
    "\n",
    "a = tf.constant(10, dtype=tf.float32)\n",
    "b = tf.constant(20, dtype=tf.float32)\n",
    "\n",
    "c = a + b\n",
    "\n",
    "print('c의 값은 : {}'.format(c.numpy()))\n",
    "\n",
    "d= 30.0\n",
    "\n",
    "tensor_d = tf.convert_to_tensor(d)\n",
    "\n",
    "print((c + tensor_d).numpy())"
   ]
  },
  {
   "cell_type": "code",
   "execution_count": null,
   "metadata": {},
   "outputs": [],
   "source": [
    "import tensorflow as tf\n",
    "\n",
    "W = tf.Variable(tf.random.normal([1]), name='weight')\n",
    "\n",
    "# 기존에는 tf.variable()을 이용해서 변수를 만들면 사용하기 전에 반드시 초기화를 진행해야 했다.\n",
    "# TF 2.0부터는 초기화를 안해도 된다.\n",
    "print(W.numpy())"
   ]
  },
  {
   "cell_type": "code",
   "execution_count": null,
   "metadata": {},
   "outputs": [],
   "source": [
    "# tensorflow graph에 입력을 주는 부분이 없어졌다.\n",
    "# 기존에는 graph에 데이터를 밀어넣기 위해 placeholder를 이용했다.\n",
    "# Eager Execution에 의해서 이제는 placeholder가 필요 없게 됐다.\n",
    "# placeholder는 삭제되었다.\n",
    "\n",
    "# Lazy execution은 더이상 x eager execution"
   ]
  },
  {
   "cell_type": "code",
   "execution_count": 8,
   "metadata": {},
   "outputs": [],
   "source": [
    "# tensorflow의 keras를 이용하여 model을 생성해 보자\n",
    "\n",
    "import tensorflow as tf\n",
    "# from tensorflow.keras.models import Sequential\n",
    "\n",
    "# model = Sequential()  # keras model 생성\n",
    "model = tf.keras.models.Sequential()\n",
    "\n",
    "# model을 만들었으니 그 다음에는 layer를 만들어야 한다.\n",
    "model.add(tf.keras.layers.Flatten(input_shape=(2,)))  # layer를 추가\n",
    "model.add(tf.keras.layers.Dense(3, activation='softmax'))\n",
    "\n",
    "# model compile 과정\n",
    "model.compile(loss='categorical_crossentropy', optimizer=tf.keras.optimizers.SGD(learning_rate=1e-3),\n",
    "              metrics=['accuracy'])\n",
    "\n",
    "def my_loss:\n",
    "    pass\n",
    "\n",
    "# model 학습\n",
    "model.fit(x_data_train, t_data_train, epochs=100, batch_size=100, validation_split=0.3)\n",
    "\n"
   ]
  },
  {
   "cell_type": "code",
   "execution_count": 11,
   "metadata": {},
   "outputs": [
    {
     "name": "stdout",
     "output_type": "stream",
     "text": [
      "(153, 6)\n",
      "Ozone      37\n",
      "Solar.R     7\n",
      "Wind        0\n",
      "Temp        0\n",
      "Month       0\n",
      "Day         0\n",
      "dtype: int64\n"
     ]
    }
   ],
   "source": [
    "## tensorflow 2.1을 이용하여 Ozone 예제를 다시 구현해보자\n",
    "## Multiple Linear Regression\n",
    "\n",
    "import numpy as np\n",
    "import pandas as pd\n",
    "import tensorflow as tf\n",
    "from tensorflow.keras.models import Sequential  # Model\n",
    "from tensorflow.keras.layers import Flatten, Dense  # Layer\n",
    "from tensorflow.keras.optimizers import SGD  # Optimizer\n",
    "from sklearn.preprocessing import MinMaxScaler  # Normmalization\n",
    "from scipy import stats   # 이상치 처리\n",
    "\n",
    "# Raw Data Lodaing\n",
    "df = pd.read_csv('./data/ozone.csv')\n",
    "\n",
    "# 결측치 확인 및 처리\n",
    "# 데이터가 충분히 많고 결측치가 적으면 삭제가 답이다. 하지만 일반적으로 결측치를 삭제하면 데이터가 유실\n",
    "print(df.shape)\n",
    "print(df.isnull().sum())"
   ]
  },
  {
   "cell_type": "code",
   "execution_count": 13,
   "metadata": {},
   "outputs": [
    {
     "name": "stdout",
     "output_type": "stream",
     "text": [
      "0.9845\n",
      "0.998\n"
     ]
    }
   ],
   "source": [
    "# 우리 KNN의 사용법에 대해서 알아보자\n",
    "# sklearn을 이용해서 알아보자\n",
    "\n",
    "# BMI 예제를 이용해서 학습한 후 정확도를 측정해보자\n",
    "\n",
    "import numpy as np\n",
    "import pandas as pd\n",
    "from sklearn.preprocessing import MinMaxScaler\n",
    "from sklearn.model_selection import train_test_split\n",
    "from sklearn.linear_model import LogisticRegression\n",
    "from sklearn.neighbors import KNeighborsClassifier\n",
    "\n",
    "# Raw Data Loading\n",
    "df = pd.read_csv('./data/bmi/bmi.csv', skiprows=3)\n",
    "\n",
    "# data split\n",
    "x_data_train, x_data_test, t_data_train, t_data_test = \\\n",
    "train_test_split(df[['height','weight']], df['label'], test_size=0.3, random_state=0)\n",
    "\n",
    "# Normalization\n",
    "scaler = MinMaxScaler()\n",
    "scaler.fit(x_data_train)\n",
    "x_data_train_norm = scaler.transform(x_data_train)\n",
    "x_data_test_norm = scaler.transform(x_data_test)\n",
    "\n",
    "# Logistic Regression\n",
    "model = LogisticRegression()\n",
    "model.fit(x_data_train_norm, t_data_train)\n",
    "print(model.score(x_data_test_norm, t_data_test))\n",
    "\n",
    "\n",
    "# KNN 을 이용한 분류\n",
    "knn_model = KNeighborsClassifier(n_neighbors=3)\n",
    "knn_model.fit(x_data_train_norm, t_data_train)\n",
    "print(knn_model.score(x_data_test_norm, t_data_test))"
   ]
  }
 ],
 "metadata": {
  "kernelspec": {
   "display_name": "Python [conda env:data_env_tensorflow2] *",
   "language": "python",
   "name": "conda-env-data_env_tensorflow2-py"
  },
  "language_info": {
   "codemirror_mode": {
    "name": "ipython",
    "version": 3
   },
   "file_extension": ".py",
   "mimetype": "text/x-python",
   "name": "python",
   "nbconvert_exporter": "python",
   "pygments_lexer": "ipython3",
   "version": "3.7.9"
  }
 },
 "nbformat": 4,
 "nbformat_minor": 4
}
