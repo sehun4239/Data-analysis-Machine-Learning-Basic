{
 "cells": [
  {
   "cell_type": "code",
   "execution_count": 1,
   "metadata": {},
   "outputs": [
    {
     "name": "stdout",
     "output_type": "stream",
     "text": [
      "0.954434002924965\n"
     ]
    }
   ],
   "source": [
    "import numpy as np\n",
    "\n",
    "result = -(10/16 * np.log2(10/16) + 6/16 * np.log2(6/16))\n",
    "\n",
    "print(result)"
   ]
  },
  {
   "cell_type": "code",
   "execution_count": 2,
   "metadata": {},
   "outputs": [
    {
     "name": "stdout",
     "output_type": "stream",
     "text": [
      "0.7489992230622807\n"
     ]
    }
   ],
   "source": [
    "import numpy as np\n",
    "\n",
    "result1 = 8/16 * (-(7/8 * np.log2(7/8) + 1/8 * np.log2(1/8)))\n",
    "result2 = 8/16 * (-(3/8 * np.log2(3/8) + 5/8 * np.log2(5/8)))\n",
    "\n",
    "print(result1 + result2)"
   ]
  },
  {
   "cell_type": "code",
   "execution_count": 4,
   "metadata": {
    "scrolled": false
   },
   "outputs": [
    {
     "name": "stdout",
     "output_type": "stream",
     "text": [
      "Once deleted, variables cannot be recovered. Proceed (y/[n])? y\n"
     ]
    },
    {
     "data": {
      "image/png": "[encoded data removed]",
      "text/plain": [
       "<Figure size 432x288 with 1 Axes>"
      ]
     },
     "metadata": {
      "needs_background": "light"
     },
     "output_type": "display_data"
    },
    {
     "data": {
      "image/png": "[encoded data removed]",
      "text/plain": [
       "<Figure size 432x288 with 1 Axes>"
      ]
     },
     "metadata": {
      "needs_background": "light"
     },
     "output_type": "display_data"
    }
   ],
   "source": [
    "%reset\n",
    "\n",
    "import numpy as np\n",
    "import pandas as pd\n",
    "import matplotlib.pyplot as plt\n",
    "from mlxtend.plotting import plot_decision_regions\n",
    "from sklearn.tree import DecisionTreeClassifier\n",
    "\n",
    "# training data set\n",
    "df = pd.read_csv('./data/bmi/bmi.csv', skiprows=3)\n",
    "\n",
    "x_data = df[['height', 'weight']].values\n",
    "t_data = df['label'].values\n",
    "\n",
    "# matplotlib을 이용해서 t_data가 0인 경우 red점으로,\n",
    "# t_data가 1인경우 blue점으로, t_data가 2인경우 green점으로 표현\n",
    "# 총 20000개 중에 각각 30개씩만 뽑아서 그래프를 그려보아요!\n",
    "\n",
    "num_of_sample = 30\n",
    "\n",
    "x_data_red = x_data[t_data==0][:num_of_sample]\n",
    "t_data_red = t_data[t_data==0][:num_of_sample]\n",
    "\n",
    "x_data_blue = x_data[t_data==1][:num_of_sample]\n",
    "t_data_blue = t_data[t_data==1][:num_of_sample]\n",
    "\n",
    "x_data_green = x_data[t_data==2][:num_of_sample]\n",
    "t_data_green = t_data[t_data==2][:num_of_sample]\n",
    "\n",
    "plt.scatter(x_data_red[:,0],x_data_red[:,1], color='r')\n",
    "plt.scatter(x_data_blue[:,0],x_data_blue[:,1], color='b')\n",
    "plt.scatter(x_data_green[:,0],x_data_green[:,1], color='g')\n",
    "\n",
    "plt.show()\n",
    "\n",
    "x_data_sample = np.concatenate((x_data_red,x_data_blue,x_data_green), axis=0)\n",
    "t_data_sample = np.concatenate((t_data_red,t_data_blue,t_data_green), axis=0)\n",
    "\n",
    "# sklearn 구현\n",
    "model = DecisionTreeClassifier()\n",
    "model.fit(x_data_sample,t_data_sample)\n",
    "\n",
    "plot_decision_regions(X=x_data_sample,\n",
    "                      y=t_data_sample,\n",
    "                      clf=model,\n",
    "                      legend=2)\n",
    "\n",
    "plt.show()"
   ]
  },
  {
   "cell_type": "code",
   "execution_count": 6,
   "metadata": {},
   "outputs": [
    {
     "name": "stdout",
     "output_type": "stream",
     "text": [
      "Once deleted, variables cannot be recovered. Proceed (y/[n])? y\n",
      "              precision    recall  f1-score   support\n",
      "\n",
      "           0       0.91      0.91      0.91      1242\n",
      "           1       0.93      0.95      0.94      1429\n",
      "           2       0.83      0.79      0.81      1276\n",
      "           3       0.80      0.82      0.81      1298\n",
      "           4       0.84      0.85      0.84      1236\n",
      "           5       0.77      0.80      0.78      1119\n",
      "           6       0.89      0.88      0.88      1243\n",
      "           7       0.89      0.87      0.88      1334\n",
      "           8       0.80      0.77      0.78      1204\n",
      "           9       0.80      0.82      0.81      1219\n",
      "\n",
      "    accuracy                           0.85     12600\n",
      "   macro avg       0.85      0.85      0.85     12600\n",
      "weighted avg       0.85      0.85      0.85     12600\n",
      "\n"
     ]
    }
   ],
   "source": [
    "%reset \n",
    "\n",
    "import numpy as np\n",
    "import pandas as pd\n",
    "from sklearn.tree import DecisionTreeClassifier\n",
    "from sklearn.model_selection import train_test_split\n",
    "from sklearn.preprocessing import MinMaxScaler\n",
    "from sklearn.metrics import classification_report\n",
    "\n",
    "# training data set\n",
    "df = pd.read_csv('./data/digit-recognizer/train.csv')\n",
    "\n",
    "# Data Split\n",
    "x_data_train, x_data_test, t_data_train, t_data_test = \\\n",
    "train_test_split(df.drop('label', axis=1, inplace=False), df['label'], test_size=0.3, random_state=0)\n",
    "# test_size : test set의 비율 (0.3 => 30%)\n",
    "# random_state : split할 때 랜덤하게 split하게 되는데 이를 일정하게 고정(seed의 개념)\n",
    "\n",
    "# Min-Max Normalization\n",
    "scaler = MinMaxScaler()   # scaler = StandardScaler()\n",
    "scaler.fit(x_data_train)\n",
    "x_data_train_norm = scaler.transform(x_data_train)\n",
    "x_data_test_norm = scaler.transform(x_data_test)\n",
    "\n",
    "del x_data_train\n",
    "del x_data_test\n",
    "\n",
    "model = DecisionTreeClassifier()\n",
    "model.fit(x_data_train_norm,t_data_train)\n",
    "\n",
    "result = model.predict(x_data_test_norm)\n",
    "print(classification_report(t_data_test,result))"
   ]
  }
 ],
 "metadata": {
  "kernelspec": {
   "display_name": "Python [conda env:data_env] *",
   "language": "python",
   "name": "conda-env-data_env-py"
  },
  "language_info": {
   "codemirror_mode": {
    "name": "ipython",
    "version": 3
   },
   "file_extension": ".py",
   "mimetype": "text/x-python",
   "name": "python",
   "nbconvert_exporter": "python",
   "pygments_lexer": "ipython3",
   "version": "3.7.9"
  }
 },
 "nbformat": 4,
 "nbformat_minor": 4
}
