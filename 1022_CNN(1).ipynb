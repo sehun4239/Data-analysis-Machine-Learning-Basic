{
 "cells": [
  {
   "cell_type": "code",
   "execution_count": 15,
   "metadata": {},
   "outputs": [
    {
     "name": "stdout",
     "output_type": "stream",
     "text": [
      "(1, 3, 3, 1)\n",
      "(2, 2, 1, 5)\n",
      "(1, 2, 2, 5)\n"
     ]
    }
   ],
   "source": [
    "import numpy as np\n",
    "import tensorflow as tf\n",
    "\n",
    "# print(tf.__version__)\n",
    "\n",
    "# 입력이미지(4차원으로 표현)\n",
    "# (이미지개수, width, height, color)\n",
    "# (1,3,3,1) => (이미지1개, 가로 3pixel, 세로 3pixel, color수 1)\n",
    "image = np.array([[[[1],[1],[1]],\n",
    "                  [[1],[1],[1]],\n",
    "                  [[1],[1],[1]]]], dtype=np.float32)\n",
    "\n",
    "print(image.shape)   # (1,3,3,1)\n",
    "\n",
    "# filter를 적용할건데 필터의 가로길이, 세로길이, 필터의 channel, 필터 개수 (2,2,1,5)\n",
    "weight = np.array([[[[1,2,3,4,5]],\n",
    "                   [[1,2,3,4,5]]],\n",
    "                   [[[1,2,3,4,5]],\n",
    "                   [[1,2,3,4,5]]]])\n",
    "print(weight.shape)\n",
    "\n",
    "# stride:1\n",
    "# Padding : Valid (padding 쓰지 않겠다, same이면 쓰는거)\n",
    "result = tf.nn.conv2d(image,\n",
    "                      weight,\n",
    "                      strides=[1,1,1,1],\n",
    "                      padding='VALID')\n",
    "\n",
    "sess = tf.Session()\n",
    "conv2d = sess.run(result)\n",
    "print(conv2d.shape)"
   ]
  }
 ],
 "metadata": {
  "kernelspec": {
   "display_name": "Python [conda env:data_env] *",
   "language": "python",
   "name": "conda-env-data_env-py"
  },
  "language_info": {
   "codemirror_mode": {
    "name": "ipython",
    "version": 3
   },
   "file_extension": ".py",
   "mimetype": "text/x-python",
   "name": "python",
   "nbconvert_exporter": "python",
   "pygments_lexer": "ipython3",
   "version": "3.7.9"
  }
 },
 "nbformat": 4,
 "nbformat_minor": 4
}
